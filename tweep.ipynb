{
 "cells": [
  {
   "cell_type": "code",
   "execution_count": 4,
   "metadata": {},
   "outputs": [
    {
     "name": "stderr",
     "output_type": "stream",
     "text": [
      "/Users/himanishprakash/Library/Python/3.9/lib/python/site-packages/urllib3/__init__.py:34: NotOpenSSLWarning: urllib3 v2 only supports OpenSSL 1.1.1+, currently the 'ssl' module is compiled with 'LibreSSL 2.8.3'. See: https://github.com/urllib3/urllib3/issues/3020\n",
      "  warnings.warn(\n"
     ]
    }
   ],
   "source": [
    "from wordcloud import WordCloud\n",
    "import tweepy\n",
    "import matplotlib.pyplot as plt \n",
    "import json"
   ]
  },
  {
   "cell_type": "code",
   "execution_count": 5,
   "metadata": {},
   "outputs": [],
   "source": [
    "def load_credentials(file_name):\n",
    "    with open(file_name, 'r') as file:\n",
    "        return json.load(file)"
   ]
  },
  {
   "cell_type": "code",
   "execution_count": 8,
   "metadata": {},
   "outputs": [],
   "source": [
    "credentials = load_credentials('config_himanish.json')\n",
    "\n",
    "    # Set up Tweepy client\n",
    "client = tweepy.Client(\n",
    "        bearer_token=credentials['bearer_token'],\n",
    "        consumer_key=credentials['consumer_key'],\n",
    "        consumer_secret=credentials['consumer_secret'],\n",
    "        access_token=credentials['access_token'],\n",
    "        access_token_secret=credentials['access_token_secret']\n",
    "    )\n"
   ]
  },
  {
   "cell_type": "code",
   "execution_count": 9,
   "metadata": {},
   "outputs": [],
   "source": [
    "query = \"#INFORMS\"\n",
    "\n",
    "response = client.search_recent_tweets(query= query, max_results= 15)\n"
   ]
  },
  {
   "cell_type": "code",
   "execution_count": 17,
   "metadata": {},
   "outputs": [],
   "source": [
    "def save_tweets_to_json(tweets, file_name):\n",
    "    \"\"\" Saves a list of tweet data to a JSON file.\"\"\"\n",
    "    # Convert each Tweet object into a dictionary\n",
    "    tweets_data = []\n",
    "    for tweet in tweets.data:\n",
    "        \n",
    "        tweet_dict = {\n",
    "            'id': tweet.id,\n",
    "            'text': tweet.text\n",
    "        }\n",
    "        tweets_data.append(tweet_dict)\n",
    "    \n",
    "    # Write the list of dictionaries to a JSON file\n",
    "    with open(file_name, 'w', encoding='utf-8') as f:\n",
    "        json.dump(tweets_data, f, ensure_ascii=False, indent=4)"
   ]
  },
  {
   "cell_type": "code",
   "execution_count": 18,
   "metadata": {},
   "outputs": [],
   "source": [
    "save_tweets_to_json(response, 'tweets_data.json')"
   ]
  },
  {
   "cell_type": "code",
   "execution_count": 10,
   "metadata": {},
   "outputs": [],
   "source": [
    "query = \"#INFORMS\"\n",
    "\n",
    "response = auth.search_recent_tweets(query= query, max_results= 15)\n"
   ]
  },
  {
   "cell_type": "code",
   "execution_count": 12,
   "metadata": {},
   "outputs": [],
   "source": [
    "save_tweets_to_json(response, 'just_informs_tweets.json')"
   ]
  },
  {
   "cell_type": "code",
   "execution_count": 13,
   "metadata": {},
   "outputs": [],
   "source": [
    "query = \"@INFORMS\"\n",
    "\n",
    "response = auth.search_recent_tweets(query= query, max_results= 15)"
   ]
  },
  {
   "cell_type": "code",
   "execution_count": 15,
   "metadata": {},
   "outputs": [],
   "source": [
    "save_tweets_to_json(response, '@informs_tweets.json')"
   ]
  },
  {
   "cell_type": "code",
   "execution_count": null,
   "metadata": {},
   "outputs": [],
   "source": []
  }
 ],
 "metadata": {
  "kernelspec": {
   "display_name": "Python 3",
   "language": "python",
   "name": "python3"
  },
  "language_info": {
   "codemirror_mode": {
    "name": "ipython",
    "version": 3
   },
   "file_extension": ".py",
   "mimetype": "text/x-python",
   "name": "python",
   "nbconvert_exporter": "python",
   "pygments_lexer": "ipython3",
   "version": "3.9.6"
  },
  "orig_nbformat": 4
 },
 "nbformat": 4,
 "nbformat_minor": 2
}
